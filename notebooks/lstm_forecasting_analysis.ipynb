{
 "nbformat": 4,
 "nbformat_minor": 5,
 "metadata": {
  "kernelspec": {
   "display_name": "Python 3",
   "language": "python",
   "name": "python3"
  },
  "language_info": {
   "codemirror_mode": {
    "name": "ipython",
    "version": 3
   },
   "file_extension": ".py",
   "mimetype": "text/x-python",
   "name": "python",
   "nbconvert_exporter": "python",
   "pygments_lexer": "ipython3",
   "version": "3.10.6"
  }
 },
 "cells": [
  {
   "cell_type": "markdown",
   "metadata": {},
   "source": [
    "# Advanced Time Series Forecasting with LSTM\n",
    "\n",
    "This notebook demonstrates how to build an LSTM model to forecast a time series. The process includes data generation, preprocessing, model building, training, and evaluation."
   ]
  },
  {
   "cell_type": "markdown",
   "metadata": {},
   "source": [
    "## 1. Setup and Data Generation\n",
    "\n",
    "First, we import the necessary libraries and generate a synthetic time series dataset that includes a trend, seasonality, and some noise."
   ]
  },
  {
   "cell_type": "code",
   "execution_count": null,
   "metadata": {},
   "outputs": [],
   "source": [
    "import numpy as np\n",
    "import pandas as pd\n",
    "import matplotlib.pyplot as plt\n",
    "from sklearn.preprocessing import MinMaxScaler\n",
    "from tensorflow.keras.models import Sequential\n",
    "from tensorflow.keras.layers import LSTM, Dense, Dropout\n",
    "\n",
    "print(\"Generating synthetic time series data...\")\n",
    "\n",
    "# Generate a synthetic time series with a trend and seasonality\n",
    "def generate_time_series(num_points):\n",
    "    t = np.arange(num_points)\n",
    "    data = 0.5 * t + 10 * np.sin(t / 10) + np.random.randn(num_points) * 2\n",
    "    return data\n",
    "\n",
    "time_series_data = generate_time_series(1000)\n",
    "\n",
    "# Convert to DataFrame for easier handling\n",
    "df = pd.DataFrame(time_series_data, columns=['value'])\n",
    "\n",
    "# Plot the generated data\n",
    "plt.figure(figsize=(12, 6))\n",
    "df.plot(title='Synthetic Time Series Data', figsize=(12, 6))\n",
    "plt.xlabel('Time')\n",
    "plt.ylabel('Value')\n",
    "plt.show()"
   ]
  },
  {
   "cell_type": "markdown",
   "metadata": {},
   "source": [
    "## 2. Data Preprocessing and Feature Engineering\n",
    "\n",
    "We scale the data to a range of 0-1 for better model performance and transform the series into a supervised learning problem by creating sequences of past data points to predict a future value."
   ]
  },
  {
   "cell_type": "code",
   "execution_count": null,
   "metadata": {},
   "outputs": [],
   "source": [
    "print(\"Preprocessing data...\")\n",
    "\n",
    "# Scale the data to be between 0 and 1\n",
    "scaler = MinMaxScaler(feature_range=(0, 1))\n",
    "scaled_data = scaler.fit_transform(df['value'].values.reshape(-1, 1))\n",
    "\n",
    "# Create sequences for LSTM\n",
    "def create_sequences(data, seq_length):\n",
    "    X, y = [], []\n",
    "    for i in range(len(data) - seq_length):\n",
    "        X.append(data[i:(i + seq_length), 0])\n",
    "        y.append(data[i + seq_length, 0])\n",
    "    return np.array(X), np.array(y)\n",
    "\n",
    "SEQUENCE_LENGTH = 50\n",
    "X, y = create_sequences(scaled_data, SEQUENCE_LENGTH)\n",
    "\n",
    "# Reshape for LSTM model input [samples, time steps, features]\n",
    "X = np.reshape(X, (X.shape[0], X.shape[1], 1))"
   ]
  },
  {
   "cell_type": "markdown",
   "metadata": {},
   "source": [
    "## 3. Building the LSTM Model\n",
    "\n",
    "We split the data into training and testing sets and define a Sequential model with stacked LSTM layers and Dropout for regularization."
   ]
  },
  {
   "cell_type": "code",
   "execution_count": null,
   "metadata": {},
   "outputs": [],
   "source": [
    "# Split data into training and testing sets (80% train, 20% test)\n",
    "split_index = int(0.8 * len(X))\n",
    "X_train, X_test = X[:split_index], X[split_index:]\n",
    "y_train, y_test = y[:split_index], y[split_index:]\n",
    "\n",
    "print(\"Building the LSTM model...\")\n",
    "\n",
    "# Define the model architecture\n",
    "model = Sequential()\n",
    "model.add(LSTM(units=100, return_sequences=True, input_shape=(X_train.shape[1], 1)))\n",
    "model.add(Dropout(0.2))\n",
    "model.add(LSTM(units=100))\n",
    "model.add(Dropout(0.2))\n",
    "model.add(Dense(units=1))\n",
    "\n",
    "# Compile the model\n",
    "model.compile(optimizer='adam', loss='mean_squared_error')\n",
    "\n",
    "# Display the model summary\n",
    "model.summary()"
   ]
  },
  {
   "cell_type": "markdown",
   "metadata": {},
   "source": [
    "## 4. Training and Evaluation\n",
    "\n",
    "Now we train the model on our training data and evaluate its performance on the unseen test data."
   ]
  },
  {
   "cell_type": "code",
   "execution_count": null,
   "metadata": {},
   "outputs": [],
   "source": [
    "print(\"Training the model...\")\n",
    "\n",
    "history = model.fit(X_train, y_train, epochs=20, batch_size=32, validation_data=(X_test, y_test))\n",
    "\n",
    "print(\"\\nEvaluating the model...\")\n",
    "test_loss = model.evaluate(X_test, y_test, verbose=0)\n",
    "print(f\"Test Mean Squared Error (MSE): {test_loss:.4f}\")"
   ]
  },
  {
   "cell_type": "markdown",
   "metadata": {},
   "source": [
    "## 5. Visualization of Results\n",
    "\n",
    "Finally, we use the trained model to make predictions on the test set and plot them against the actual values to visually assess the model's accuracy."
   ]
  },
  {
   "cell_type": "code",
   "execution_count": null,
   "metadata": {},
   "outputs": [],
   "source": [
    "print(\"Generating predictions and visualizing results...\")\n",
    "\n",
    "# Make predictions\n",
    "predictions_scaled = model.predict(X_test)\n",
    "\n",
    "# Inverse transform predictions and actual values to the original scale\n",
    "predictions = scaler.inverse_transform(predictions_scaled)\n",
    "actual = scaler.inverse_transform(y_test.reshape(-1, 1))\n",
    "\n",
    "# Plot the results\n",
    "plt.figure(figsize=(15, 6))\n",
    "plt.plot(actual, color='red', label='Actual Values')\n",
    "plt.plot(predictions, color='blue', label='Predicted Values')\n",
    "plt.title('Time Series Forecasting: Actual vs. Predicted')\n",
    "plt.xlabel('Time')\n",
    "plt.ylabel('Value')\n",
    "plt.legend()\n",
    "plt.show()"
   ]
  }
 ]
}
